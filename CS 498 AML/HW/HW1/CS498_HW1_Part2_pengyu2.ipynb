{
 "cells": [
  {
   "cell_type": "code",
   "execution_count": null,
   "metadata": {},
   "outputs": [],
   "source": [
    "import numpy as np\n",
    "import pandas as pd\n",
    "import math\n",
    "from sklearn import metrics\n",
    "from sklearn.naive_bayes import GaussianNB\n",
    "from sklearn.naive_bayes import BernoulliNB\n",
    "from sklearn.ensemble import RandomForestClassifier\n",
    "from sklearn.metrics import confusion_matrix\n",
    "from sklearn.metrics import accuracy_score\n",
    "from skimage import io\n",
    "from skimage.transform import resize\n",
    "import warnings\n",
    "warnings.filterwarnings('ignore')"
   ]
  },
  {
   "cell_type": "code",
   "execution_count": null,
   "metadata": {},
   "outputs": [],
   "source": [
    "# read data, feature-label split\n",
    "train_data = pd.read_csv(\"mnist_train.csv\")\n",
    "test_data = pd.read_csv(\"mnist_test.csv\")\n",
    "train_x = train_data.iloc[:, 0:784]\n",
    "train_y = train_data.iloc[:, 784]\n",
    "test_x = test_data.iloc[:, 0:784]\n",
    "test_y = test_data.iloc[:, 784]"
   ]
  },
  {
   "cell_type": "code",
   "execution_count": null,
   "metadata": {},
   "outputs": [],
   "source": [
    "# untouched gaussian\n",
    "untouched_nb_gau = GaussianNB()\n",
    "untouched_nb_gau.fit(train_x, train_y)\n",
    "# test\n",
    "untouched_gau_test_result = untouched_nb_gau.predict(test_x)\n",
    "untouched_gau_cf = confusion_matrix (test_y, untouched_gau_test_result)\n",
    "untouched_gau_acc = accuracy_score(test_y, untouched_gau_test_result)"
   ]
  },
  {
   "cell_type": "code",
   "execution_count": null,
   "metadata": {},
   "outputs": [],
   "source": [
    "# untouched bernoulli\n",
    "untouched_nb_ber= BernoulliNB()\n",
    "untouched_nb_ber.fit(train_x, train_y)\n",
    "# test\n",
    "untouched_ber_test_result = untouched_nb_ber.predict(test_x)\n",
    "untouched_ber_cf = confusion_matrix (test_y, untouched_ber_test_result)\n",
    "untouched_ber_acc = accuracy_score(test_y, untouched_ber_test_result)"
   ]
  },
  {
   "cell_type": "code",
   "execution_count": null,
   "metadata": {},
   "outputs": [],
   "source": [
    "# crop function\n",
    "def image_crop(arr):\n",
    "    result = np.empty([20,20])\n",
    "    i = 1\n",
    "    for j in range(1,785):\n",
    "        x = math.floor(j / 28)\n",
    "        y = j % 28 - 1\n",
    "        \n",
    "        if(y == 0):\n",
    "            y = 28\n",
    "        if x >= 4 and x <= 23 and y >= 4 and y <= 23: \n",
    "            result[x-4,y-4] = arr[j]\n",
    "            i = 1 + i\n",
    "\n",
    "    return result"
   ]
  },
  {
   "cell_type": "code",
   "execution_count": null,
   "metadata": {},
   "outputs": [],
   "source": [
    "# cropped_digit is a 20 by 20 matrix\n",
    "# stretch function\n",
    "\n",
    "def image_scale(images): \n",
    "    # up\n",
    "    up = 0\n",
    "    for h in range(0,20):\n",
    "        zeroRow = True\n",
    "        for w in range(0,20):\n",
    "            if(images[h,w] != 0.):\n",
    "                zeroRow = False\n",
    "                break\n",
    "\n",
    "        if(zeroRow):\n",
    "            up = up + 1\n",
    "        else:\n",
    "            break\n",
    "  \n",
    "  #down\n",
    "    down = 0\n",
    "    for h in range(19,0,-1):\n",
    "        zeroRow = True\n",
    "        for w in range(20):\n",
    "            if(images[h,w] != 0.):\n",
    "                zeroRow = False\n",
    "                break\n",
    "\n",
    "        if(zeroRow):\n",
    "            down = down + 1\n",
    "        else:\n",
    "            break\n",
    "    \n",
    "  \n",
    "  #left\n",
    "    left = 0\n",
    "    for w in range(20):\n",
    "        zeroRow = True\n",
    "        for h in range(20):\n",
    "            if(images[h,w] != 0.):\n",
    "                zeroRow = False\n",
    "                break\n",
    "\n",
    "        if(zeroRow):\n",
    "            left = left + 1\n",
    "        else:\n",
    "            break\n",
    "    \n",
    "  # right\n",
    "    right = 0\n",
    "    for w in range(19,0,-1):\n",
    "        zeroRow = True\n",
    "        for h in range(20):\n",
    "            if(images[h,w] != 0.):\n",
    "                zeroRow = False\n",
    "                break\n",
    "\n",
    "        if(zeroRow):\n",
    "            right = right + 1\n",
    "        else:\n",
    "            break\n",
    "  \n",
    "    height = 20 - up - down\n",
    "    width = 20 - left - right\n",
    "    original = images[(up):(19-down),(left):(19-right)]\n",
    "         \n",
    "    return original \n"
   ]
  },
  {
   "cell_type": "code",
   "execution_count": null,
   "metadata": {},
   "outputs": [],
   "source": [
    "# data preprocessing\n",
    "def pre_process(data):\n",
    "    cp = image_crop(data.iloc[0, 0:784])\n",
    "    sc = image_scale(cp)\n",
    "    img = resize(sc, (20, 20))\n",
    "    img = img.reshape([1,400])\n",
    "    final_data = pd.DataFrame(img)\n",
    "    \n",
    "    for i in range(1,len(data)):\n",
    "        cp = image_crop(data.iloc[i, 0:784])\n",
    "        sc = image_scale(cp)\n",
    "        img = resize(sc, (20, 20))\n",
    "        img = img.reshape([1,400])\n",
    "        temp = pd.DataFrame(img)\n",
    "        final_data = final_data.append(temp)\n",
    "\n",
    "    return final_data"
   ]
  },
  {
   "cell_type": "code",
   "execution_count": null,
   "metadata": {},
   "outputs": [],
   "source": [
    "#stretched_train_x = pre_process(train_x)\n",
    "#stretched_train_y = train_y\n",
    "#stretched_test_x = pre_process(test_x)\n",
    "#stretched_test_y = test_y\n",
    "stretched_train_x = pd.read_csv(\"preprocessed_train\")\n",
    "stretched_test_x = pd.read_csv(\"preprocessed_test\")\n",
    "stretched_train_y = train_y\n",
    "stretched_test_y = test_y"
   ]
  },
  {
   "cell_type": "code",
   "execution_count": null,
   "metadata": {},
   "outputs": [],
   "source": [
    "# stretched gaussian\n",
    "stretched_nb_gau = GaussianNB()\n",
    "stretched_nb_gau.fit(stretched_train_x, stretched_train_y)\n",
    "# test\n",
    "stretched_gau_test_result = stretched_nb_gau.predict(stretched_test_x)\n",
    "stretched_gau_cf = confusion_matrix (stretched_test_y, stretched_gau_test_result)\n",
    "stretched_gau_acc = accuracy_score(stretched_test_y, stretched_gau_test_result)"
   ]
  },
  {
   "cell_type": "code",
   "execution_count": null,
   "metadata": {},
   "outputs": [],
   "source": [
    "# stretched bernoulli\n",
    "stretched_nb_ber = BernoulliNB()\n",
    "stretched_nb_ber.fit(stretched_train_x, stretched_train_y)\n",
    "# test\n",
    "stretched_ber_test_result = stretched_nb_ber.predict(stretched_test_x)\n",
    "stretched_ber_cf = confusion_matrix (stretched_test_y, stretched_ber_test_result)\n",
    "stretched_ber_acc = accuracy_score(stretched_test_y, stretched_ber_test_result)"
   ]
  },
  {
   "cell_type": "code",
   "execution_count": null,
   "metadata": {},
   "outputs": [],
   "source": [
    "d = {'Bernoulli': [untouched_ber_acc, stretched_ber_acc], 'Gaussian': [untouched_gau_acc, stretched_gau_acc]}\n",
    "df_2a = pd.DataFrame(data=d)\n",
    "df_2a.iloc[:].index = ['Untouched images', 'Stretched bounding box']\n",
    "df_2a"
   ]
  },
  {
   "cell_type": "code",
   "execution_count": null,
   "metadata": {},
   "outputs": [],
   "source": []
  },
  {
   "cell_type": "code",
   "execution_count": null,
   "metadata": {},
   "outputs": [],
   "source": []
  },
  {
   "cell_type": "code",
   "execution_count": null,
   "metadata": {},
   "outputs": [],
   "source": [
    "def get_rf_acc(train_x, train_y, test_x, test_y, depth, trees):\n",
    "    rf = RandomForestClassifier(max_depth=depth, n_estimators=trees)\n",
    "    rf.fit(train_x, train_y)\n",
    "    # test\n",
    "    test_result = rf.predict(test_x)\n",
    "    cm = confusion_matrix (test_y, test_result)\n",
    "    acc = accuracy_score(test_y, test_result)\n",
    "    return(acc)"
   ]
  },
  {
   "cell_type": "code",
   "execution_count": null,
   "metadata": {},
   "outputs": [],
   "source": [
    "acc_un_4_10 = get_rf_acc (train_x, train_y, test_x, test_y, 4, 10)\n",
    "acc_un_4_20 = get_rf_acc (train_x, train_y, test_x, test_y, 4, 20)\n",
    "acc_un_4_30 = get_rf_acc (train_x, train_y, test_x, test_y, 4, 30)\n",
    "acc_un_8_20 = get_rf_acc (train_x, train_y, test_x, test_y, 8, 10)\n",
    "acc_un_8_20 = get_rf_acc (train_x, train_y, test_x, test_y, 8, 20)\n",
    "acc_un_8_20 = get_rf_acc (train_x, train_y, test_x, test_y, 8, 30)\n",
    "acc_un_16_20 = get_rf_acc (train_x, train_y, test_x, test_y, 16, 10)\n",
    "acc_un_16_20 = get_rf_acc (train_x, train_y, test_x, test_y, 16, 20)\n",
    "acc_un_16_20 = get_rf_acc (train_x, train_y, test_x, test_y, 16, 30)"
   ]
  },
  {
   "cell_type": "code",
   "execution_count": null,
   "metadata": {},
   "outputs": [],
   "source": [
    "acc_4_10 = get_rf_acc (stretched_train_x, stretched_train_y, stretched_test_x, stretched_test_y, 4, 10)\n",
    "acc_4_20 = get_rf_acc (stretched_train_x, stretched_train_y, stretched_test_x, stretched_test_y, 4, 20)\n",
    "acc_4_30 = get_rf_acc (stretched_train_x, stretched_train_y, stretched_test_x, stretched_test_y, 4, 30)\n",
    "acc_8_20 = get_rf_acc (stretched_train_x, stretched_train_y, stretched_test_x, stretched_test_y, 8, 10)\n",
    "acc_8_20 = get_rf_acc (stretched_train_x, stretched_train_y, stretched_test_x, stretched_test_y, 8, 20)\n",
    "acc_8_20 = get_rf_acc (stretched_train_x, stretched_train_y, stretched_test_x, stretched_test_y, 8, 30)\n",
    "acc_16_20 = get_rf_acc (stretched_train_x, stretched_train_y, stretched_test_x, stretched_test_y, 16, 10)\n",
    "acc_16_20 = get_rf_acc (stretched_train_x, stretched_train_y, stretched_test_x, stretched_test_y, 16, 20)\n",
    "acc_16_20 = get_rf_acc (stretched_train_x, stretched_train_y, stretched_test_x, stretched_test_y, 16, 30)"
   ]
  },
  {
   "cell_type": "code",
   "execution_count": null,
   "metadata": {},
   "outputs": [],
   "source": [
    "dic_2b_untouch = {'depth = 4': [acc_un_4_10, acc_un_4_20, acc_un_4_30], \n",
    "          'depth = 8': [acc_un_8_20, acc_un_8_20, acc_un_8_20], \n",
    "          'depth = 16': [acc_un_16_20, acc_un_16_20, acc_un_16_20]}\n",
    "df_2b_untouch = pd.DataFrame(data=dic_2b_untouch)\n",
    "df_2b_untouch.iloc[:].index = ['trees = 10', 'trees = 20', 'trees = 30']\n",
    "df_2b_untouch = df_2b_untouch[['depth = 4', 'depth = 8', 'depth = 16']] #set column order\n",
    "df_2b_untouch"
   ]
  },
  {
   "cell_type": "code",
   "execution_count": null,
   "metadata": {},
   "outputs": [],
   "source": [
    "dic_2b_stretched = {'depth = 4': [acc_4_10, acc_4_20, acc_4_30], \n",
    "          'depth = 8': [acc_8_20, acc_8_20, acc_8_20], \n",
    "          'depth = 16': [acc_16_20, acc_16_20, acc_16_20]}\n",
    "df_2b_stretched = pd.DataFrame(data=dic_2b_stretched)\n",
    "df_2b_stretched.iloc[:].index = ['trees = 10', 'trees = 20', 'trees = 30']\n",
    "df_2b_stretched = df_2b_stretched[['depth = 4', 'depth = 8', 'depth = 16']] #set column order\n",
    "df_2b_stretched"
   ]
  },
  {
   "cell_type": "code",
   "execution_count": null,
   "metadata": {},
   "outputs": [],
   "source": []
  },
  {
   "cell_type": "code",
   "execution_count": null,
   "metadata": {},
   "outputs": [],
   "source": []
  },
  {
   "cell_type": "code",
   "execution_count": null,
   "metadata": {},
   "outputs": [],
   "source": []
  },
  {
   "cell_type": "code",
   "execution_count": null,
   "metadata": {},
   "outputs": [],
   "source": []
  },
  {
   "cell_type": "code",
   "execution_count": null,
   "metadata": {},
   "outputs": [],
   "source": []
  }
 ],
 "metadata": {
  "kernelspec": {
   "display_name": "Python 3",
   "language": "python",
   "name": "python3"
  },
  "language_info": {
   "codemirror_mode": {
    "name": "ipython",
    "version": 3
   },
   "file_extension": ".py",
   "mimetype": "text/x-python",
   "name": "python",
   "nbconvert_exporter": "python",
   "pygments_lexer": "ipython3",
   "version": "3.6.5"
  }
 },
 "nbformat": 4,
 "nbformat_minor": 2
}
