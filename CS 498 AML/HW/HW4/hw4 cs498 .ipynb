{
 "cells": [
  {
   "cell_type": "code",
   "execution_count": 97,
   "metadata": {},
   "outputs": [],
   "source": [
    "import numpy as np\n",
    "import pandas as pd\n",
    "import math\n",
    "from sklearn import metrics\n",
    "from sklearn.decomposition import PCA\n",
    "from sklearn.metrics import mean_squared_error\n",
    "import numpy.linalg as linalg\n",
    "from sklearn.preprocessing import StandardScaler\n",
    "from numpy.linalg import inv\n",
    "from sklearn.datasets import load_digits\n",
    "from sklearn.manifold import MDS\n",
    "from __future__ import absolute_import, division, print_function\n",
    "import warnings\n",
    "import matplotlib\n",
    "import matplotlib.pyplot as plt\n",
    "import matplotlib.patches as mpatches"
   ]
  },
  {
   "cell_type": "code",
   "execution_count": 3,
   "metadata": {},
   "outputs": [],
   "source": [
    "def unpickle(file):\n",
    "    import pickle\n",
    "    with open(file, 'rb') as fo:\n",
    "        dict = pickle.load(fo, encoding='bytes')\n",
    "    return dict"
   ]
  },
  {
   "cell_type": "code",
   "execution_count": 4,
   "metadata": {},
   "outputs": [],
   "source": [
    "table_meta = unpickle(\"cifar-10-batches-py/batches.meta\")\n",
    "table_train1 = unpickle(\"cifar-10-batches-py/data_batch_1\")\n",
    "table_train2 = unpickle(\"cifar-10-batches-py/data_batch_2\")\n",
    "table_train3 = unpickle(\"cifar-10-batches-py/data_batch_3\")\n",
    "table_train4 = unpickle(\"cifar-10-batches-py/data_batch_4\")\n",
    "table_train5 = unpickle(\"cifar-10-batches-py/data_batch_5\")\n",
    "table_test = unpickle(\"cifar-10-batches-py/test_batch\")"
   ]
  },
  {
   "cell_type": "code",
   "execution_count": 5,
   "metadata": {},
   "outputs": [],
   "source": [
    "train1_data = table_train1[b'data']\n",
    "train1_label = table_train1[b'labels']\n",
    "train2_data = table_train2[b'data']\n",
    "train2_label = table_train2[b'labels']\n",
    "train3_data = table_train3[b'data']\n",
    "train3_label = table_train3[b'labels']\n",
    "train4_data = table_train4[b'data']\n",
    "train4_label = table_train4[b'labels']\n",
    "train5_data = table_train5[b'data']\n",
    "train5_label = table_train5[b'labels']\n",
    "train_whole = np.concatenate((train1_data, train2_data, train3_data, train4_data, train5_data))\n",
    "label_whole = np.concatenate((train1_label, train2_label, train3_label, train4_label, train5_label))"
   ]
  },
  {
   "cell_type": "code",
   "execution_count": 6,
   "metadata": {},
   "outputs": [],
   "source": [
    "train_0 = []\n",
    "train_1 = []\n",
    "train_2 = []\n",
    "train_3 = []\n",
    "train_4 = []\n",
    "train_5 = []\n",
    "train_6 = []\n",
    "train_7 = []\n",
    "train_8 = []\n",
    "train_9 = []\n",
    "for i in range(50000):\n",
    "    if(label_whole[i] == 0):\n",
    "        train_0.append(train_whole[i])\n",
    "    if(label_whole[i] == 1):\n",
    "        train_1.append(train_whole[i])\n",
    "    if(label_whole[i] == 2):\n",
    "        train_2.append(train_whole[i])\n",
    "    if(label_whole[i] == 3):\n",
    "        train_3.append(train_whole[i])\n",
    "    if(label_whole[i] == 4):\n",
    "        train_4.append(train_whole[i])\n",
    "    if(label_whole[i] == 5):\n",
    "        train_5.append(train_whole[i])\n",
    "    if(label_whole[i] == 6):\n",
    "        train_6.append(train_whole[i])\n",
    "    if(label_whole[i] == 7):\n",
    "        train_7.append(train_whole[i])    \n",
    "    if(label_whole[i] == 8):\n",
    "        train_8.append(train_whole[i])    \n",
    "    if(label_whole[i] == 9):\n",
    "        train_9.append(train_whole[i]) "
   ]
  },
  {
   "cell_type": "code",
   "execution_count": 7,
   "metadata": {},
   "outputs": [],
   "source": [
    "def mse(data, compare):\n",
    "    sum = 0\n",
    "    for i in range(5000):\n",
    "        sum = sum + mean_squared_error(data[i], compare[i])*3072\n",
    "    return sum/5000"
   ]
  },
  {
   "cell_type": "code",
   "execution_count": 50,
   "metadata": {},
   "outputs": [
    {
     "name": "stdout",
     "output_type": "stream",
     "text": [
      "2629500.1004819553\n",
      "3946291.224011452\n",
      "2432114.02164956\n",
      "3106143.4820486614\n",
      "2181917.3378302944\n",
      "3230258.326091132\n",
      "2623435.5478147804\n",
      "3424450.537289103\n",
      "2438663.506102403\n",
      "4024359.831349784\n",
      "[2629500.1004819553, 3946291.224011452, 2432114.02164956, 3106143.4820486614, 2181917.3378302944, 3230258.326091132, 2623435.5478147804, 3424450.537289103, 2438663.506102403, 4024359.831349784]\n"
     ]
    }
   ],
   "source": [
    "#(a)\n",
    "#label 0\n",
    "pca_data = PCA(n_components=20)\n",
    "pca_train_0 = pca_data.fit_transform(train_0)  \n",
    "train_0_mean = pca_data.mean_\n",
    "pca_train0_recons = np.dot(pca_train_0, pca_data.components_) + pca_data.mean_\n",
    "result_train_0 = mse(pca_train0_recons, train_0)\n",
    "print(result_train_0)\n",
    "result_q1 = []\n",
    "result_q1.append(result_train_0)\n",
    "\n",
    "\n",
    "#label 1\n",
    "pca_data = PCA(n_components=20)\n",
    "pca_train_1 = pca_data.fit_transform(train_1)  \n",
    "train_1_mean = pca_data.mean_\n",
    "pca_train1_recons = np.dot(pca_train_1, pca_data.components_) + pca_data.mean_\n",
    "result_train_1 = mse(pca_train1_recons, train_1)\n",
    "print(result_train_1)\n",
    "result_q1.append(result_train_1)\n",
    "\n",
    "#label 2\n",
    "pca_data = PCA(n_components=20)\n",
    "pca_train_2 = pca_data.fit_transform(train_2)  \n",
    "train_2_mean = pca_data.mean_\n",
    "pca_train2_recons = np.dot(pca_train_2, pca_data.components_) + pca_data.mean_\n",
    "result_train_2 = mse(pca_train2_recons, train_2)\n",
    "print(result_train_2)\n",
    "result_q1.append(result_train_2)\n",
    "\n",
    "#label 3\n",
    "pca_data = PCA(n_components=20)\n",
    "pca_train_3 = pca_data.fit_transform(train_3)  \n",
    "train_3_mean = pca_data.mean_\n",
    "pca_train3_recons = np.dot(pca_train_3, pca_data.components_) + pca_data.mean_\n",
    "result_train_3 = mse(pca_train3_recons, train_3)\n",
    "print(result_train_3)\n",
    "result_q1.append(result_train_3)\n",
    "\n",
    "#label 4\n",
    "pca_data = PCA(n_components=20)\n",
    "pca_train_4 = pca_data.fit_transform(train_4)\n",
    "train_4_mean = pca_data.mean_\n",
    "pca_train4_recons = np.dot(pca_train_4, pca_data.components_) + pca_data.mean_\n",
    "result_train_4 = mse(pca_train4_recons, train_4)\n",
    "print(result_train_4)\n",
    "result_q1.append(result_train_4)\n",
    "\n",
    "#label 5\n",
    "pca_data = PCA(n_components=20)\n",
    "pca_train_5 = pca_data.fit_transform(train_5) \n",
    "train_5_mean = pca_data.mean_\n",
    "pca_train5_recons = np.dot(pca_train_5, pca_data.components_) + pca_data.mean_\n",
    "result_train_5 = mse(pca_train5_recons, train_5)\n",
    "print(result_train_5)\n",
    "result_q1.append(result_train_5)\n",
    "\n",
    "#label 6\n",
    "pca_data = PCA(n_components=20)\n",
    "pca_train_6 = pca_data.fit_transform(train_6)  \n",
    "train_6_mean = pca_data.mean_\n",
    "pca_train6_recons = np.dot(pca_train_6, pca_data.components_) + pca_data.mean_\n",
    "result_train_6 = mse(pca_train6_recons, train_6)\n",
    "print(result_train_6)\n",
    "result_q1.append(result_train_6)\n",
    "\n",
    "#label 7\n",
    "pca_data = PCA(n_components=20)\n",
    "pca_train_7 = pca_data.fit_transform(train_7) \n",
    "train_7_mean = pca_data.mean_\n",
    "pca_train7_recons = np.dot(pca_train_7, pca_data.components_) + pca_data.mean_\n",
    "result_train_7 = mse(pca_train7_recons, train_7)\n",
    "print(result_train_7)\n",
    "result_q1.append(result_train_7)\n",
    "\n",
    "#label 8\n",
    "pca_data = PCA(n_components=20)\n",
    "pca_train_8 = pca_data.fit_transform(train_8)\n",
    "train_8_mean = pca_data.mean_\n",
    "pca_train8_recons = np.dot(pca_train_8, pca_data.components_) + pca_data.mean_\n",
    "result_train_8 = mse(pca_train8_recons, train_8)\n",
    "print(result_train_8)\n",
    "result_q1.append(result_train_8)\n",
    "\n",
    "#label 9\n",
    "pca_data = PCA(n_components=20)\n",
    "pca_train_9 = pca_data.fit_transform(train_9) \n",
    "train_9_mean = pca_data.mean_\n",
    "pca_train9_recons = np.dot(pca_train_9, pca_data.components_) + pca_data.mean_\n",
    "result_train_9 = mse(pca_train9_recons, train_9)\n",
    "print(result_train_9)\n",
    "result_q1.append(result_train_9)\n",
    "print(result_q1)"
   ]
  },
  {
   "cell_type": "code",
   "execution_count": 9,
   "metadata": {},
   "outputs": [],
   "source": [
    "#(b)\n",
    "def distanceM(a,b):\n",
    "    return mean_squared_error(a,b)"
   ]
  },
  {
   "cell_type": "code",
   "execution_count": 10,
   "metadata": {},
   "outputs": [
    {
     "name": "stdout",
     "output_type": "stream",
     "text": [
      "[[   0.          891.23803921  817.61717507 1153.48694962 1449.36670272\n",
      "  1251.91529419 1913.03092716  891.29259535  275.49129076  672.7174197 ]\n",
      " [ 891.23803921    0.          254.35360402  343.14648943  421.38772038\n",
      "   483.53147314  463.64100009  296.46809118  556.87940332  290.46966001]\n",
      " [ 817.61717507  254.35360402    0.           88.48488347  111.78241281\n",
      "   165.59332131  271.90898899   56.16611363  794.2789009   655.43052825]\n",
      " [1153.48694962  343.14648943   88.48488347    0.           70.62955934\n",
      "    53.47464496  151.01498262  114.91381687 1113.65587332  917.33596208]\n",
      " [1449.36670272  421.38772038  111.78241281   70.62955934    0.\n",
      "   119.19742102   72.89991278  141.71021365 1376.36940525 1082.66352297]\n",
      " [1251.91529419  483.53147314  165.59332131   53.47464496  119.19742102\n",
      "     0.          216.54524422  234.48383997 1186.84440125 1162.40618725]\n",
      " [1913.03092716  463.64100009  271.90898899  151.01498262   72.89991278\n",
      "   216.54524422    0.          288.56986275 1653.1297451  1193.63811793]\n",
      " [ 891.29259535  296.46809118   56.16611363  114.91381687  141.71021365\n",
      "   234.48383997  288.56986275    0.          917.16677424  606.51190215]\n",
      " [ 275.49129076  556.87940332  794.2789009  1113.65587332 1376.36940525\n",
      "  1186.84440125 1653.1297451   917.16677424    0.          375.52646587]\n",
      " [ 672.7174197   290.46966001  655.43052825  917.33596208 1082.66352297\n",
      "  1162.40618725 1193.63811793  606.51190215  375.52646587    0.        ]]\n"
     ]
    }
   ],
   "source": [
    "#This is the distance matrix\n",
    "train_matrix = []\n",
    "train_matrix.append(train_0_mean)\n",
    "train_matrix.append(train_1_mean)\n",
    "train_matrix.append(train_2_mean)\n",
    "train_matrix.append(train_3_mean)\n",
    "train_matrix.append(train_4_mean)\n",
    "train_matrix.append(train_5_mean)\n",
    "train_matrix.append(train_6_mean)\n",
    "train_matrix.append(train_7_mean)\n",
    "train_matrix.append(train_8_mean)\n",
    "train_matrix.append(train_9_mean)\n",
    "# train_matrix.append(train_0)\n",
    "# train_matrix.append(train_1)\n",
    "# train_matrix.append(train_2)\n",
    "# train_matrix.append(train_3)\n",
    "# train_matrix.append(train_4)\n",
    "# train_matrix.append(train_5)\n",
    "# train_matrix.append(train_6)\n",
    "# train_matrix.append(train_7)\n",
    "# train_matrix.append(train_8)\n",
    "# train_matrix.append(train_9)\n",
    "distance_matrix = np.zeros((10,10))\n",
    "for i in range(10):\n",
    "    for j in range(10):\n",
    "        distance_matrix[i][j] = distanceM(train_matrix[i], train_matrix[j])\n",
    "print(distance_matrix)"
   ]
  },
  {
   "cell_type": "code",
   "execution_count": 11,
   "metadata": {},
   "outputs": [],
   "source": [
    "# F_distance = _F_matrix(E_distance)\n",
    "# eigvals, eigvecs = np.linalg.eigh(F_distance)\n",
    "# negative_close_to_zero = np.isclose(eigvals, 0)\n",
    "# eigvals[negative_close_to_zero] = 0\n",
    "# idxs_descending = eigvals.argsort()[::-1]\n",
    "# new_eigvals = eigvals[idxs_descending]\n",
    "# new_eigvecs = eigvecs[:, idxs_descending]"
   ]
  },
  {
   "cell_type": "code",
   "execution_count": 12,
   "metadata": {},
   "outputs": [],
   "source": [
    "def _E_matrix(distance_matrix):\n",
    "    return np.transpose(distance_matrix) * distance_matrix/2"
   ]
  },
  {
   "cell_type": "code",
   "execution_count": 13,
   "metadata": {},
   "outputs": [],
   "source": [
    "#pcoa\n",
    "E_distance = _E_matrix(distance_matrix)\n",
    "A = np.zeros((10,10))\n",
    "for i in range(10):\n",
    "    A[i][i] = 1\n",
    "A = A - 1/10 "
   ]
  },
  {
   "cell_type": "code",
   "execution_count": 14,
   "metadata": {},
   "outputs": [],
   "source": [
    "W = A*distance_matrix*np.transpose(distance_matrix)\n",
    "eigvals, eigvecs = np.linalg.eigh(W)"
   ]
  },
  {
   "cell_type": "code",
   "execution_count": 34,
   "metadata": {},
   "outputs": [
    {
     "name": "stdout",
     "output_type": "stream",
     "text": [
      "[[ 5.12156209e-01 -4.26626278e-01  2.72297196e-01  3.47469301e-02\n",
      "   1.44344758e-02 -4.23717454e-02  5.29294073e-02 -3.44706263e-01\n",
      "   3.11694875e-01  5.09462050e-01]\n",
      " [-4.44373863e-02  3.28940983e-01 -2.48164078e-01 -6.53904183e-01\n",
      "   7.13420899e-02 -2.97962607e-01 -3.23259417e-01 -3.76475730e-01\n",
      "   2.16473009e-01  1.16980597e-01]\n",
      " [-1.00927286e-01 -8.83715002e-02  1.21743000e-01 -5.62703877e-01\n",
      "  -4.52391490e-01  6.01117233e-01  2.55409798e-01  4.44531727e-02\n",
      "  -7.12605803e-02  1.10719655e-01]\n",
      " [-2.12631455e-01 -1.51490296e-01  9.94145587e-02 -3.06577200e-01\n",
      "   7.65283060e-01 -2.04549443e-02  3.78173369e-01  1.60497949e-01\n",
      "  -1.73949583e-01  2.07016926e-01]\n",
      " [-3.28482889e-01 -1.19505585e-01  2.17124754e-01 -7.17018711e-02\n",
      "  -4.30081144e-01 -6.61769293e-01  1.45282356e-01  2.54577488e-01\n",
      "  -1.33012865e-01  3.14667474e-01]\n",
      " [-2.55763970e-01 -4.27026349e-01 -3.85677200e-01  1.10443567e-01\n",
      "  -1.95629840e-02  1.14679148e-01 -3.34991316e-01 -3.19488038e-01\n",
      "  -5.44066586e-01  2.59719751e-01]\n",
      " [-5.11735103e-01  2.94056596e-01 -1.25070906e-01  3.49788165e-01\n",
      "   1.52259023e-02  2.48248236e-01  9.62583727e-02 -7.73104479e-02\n",
      "   4.41849913e-01  4.91253979e-01]\n",
      " [-1.20081696e-01 -2.05860446e-02  5.10977350e-01 -6.52424348e-02\n",
      "   1.35326234e-01  1.78342325e-01 -7.28702443e-01  3.46030774e-01\n",
      "   3.84267389e-02  1.32143250e-01]\n",
      " [ 4.25737506e-01  1.28230477e-01 -5.13336572e-01 -4.63594601e-02\n",
      "  -2.20954264e-02  3.73219319e-02 -6.81421297e-02  6.00978644e-01\n",
      "  -5.40877284e-02  4.07450105e-01]\n",
      " [ 2.22400120e-01  6.15678331e-01  3.21588454e-01  1.20333967e-01\n",
      "   5.86118509e-05  4.17921690e-02  7.88044798e-02 -2.40699201e-01\n",
      "  -5.54359900e-01  2.83498225e-01]]\n",
      "[[ 0.51215621 -0.42662628]\n",
      " [-0.04443739  0.32894098]\n",
      " [-0.10092729 -0.0883715 ]\n",
      " [-0.21263145 -0.1514903 ]\n",
      " [-0.32848289 -0.11950559]\n",
      " [-0.25576397 -0.42702635]\n",
      " [-0.5117351   0.2940566 ]\n",
      " [-0.1200817  -0.02058604]\n",
      " [ 0.42573751  0.12823048]\n",
      " [ 0.22240012  0.61567833]]\n"
     ]
    }
   ],
   "source": [
    "idxs_descending = eigvals.argsort()[::-1]\n",
    "new_eigvals = eigvals[idxs_descending]\n",
    "new_eigvecs = eigvecs[:, idxs_descending]\n",
    "new_eigvecs = new_eigvecs[:,0:2]\n",
    "new_eigvals = new_eigvals[0:2]"
   ]
  },
  {
   "cell_type": "code",
   "execution_count": 32,
   "metadata": {},
   "outputs": [
    {
     "name": "stdout",
     "output_type": "stream",
     "text": [
      "[[ 359136.74507647 -275872.51362383]\n",
      " [ -31160.60686215  212705.54693203]\n",
      " [ -70772.73772173  -57144.31843644]\n",
      " [-149102.4948664   -97959.29371382]\n",
      " [-230340.41875912  -77276.78259618]\n",
      " [-179348.09332988 -276131.2147837 ]\n",
      " [-358841.4548481   190147.99690588]\n",
      " [ -84204.28899048  -13311.70670025]\n",
      " [ 298537.78894567   82918.62393432]\n",
      " [ 155952.52720869  398120.64439765]]\n"
     ]
    }
   ],
   "source": [
    "u, s, vh = np.linalg.svd(W, full_matrices=False)\n",
    "idxs_descending = s.argsort()[::-1]\n",
    "s = s[idxs_descending]\n",
    "for i in range(2,10):\n",
    "    s[i] = 0\n",
    "s = np.diag(s)\n",
    "s = s[0:2,0:2]\n",
    "result = np.matmul(new_eigvecs, s)\n",
    "print(result)"
   ]
  },
  {
   "cell_type": "code",
   "execution_count": 62,
   "metadata": {},
   "outputs": [
    {
     "name": "stdout",
     "output_type": "stream",
     "text": [
      "10\n"
     ]
    },
    {
     "data": {
      "image/png": "[encoded data removed]",
      "text/plain": [
       "<Figure size 432x288 with 1 Axes>"
      ]
     },
     "metadata": {},
     "output_type": "display_data"
    }
   ],
   "source": [
    "#plot for question 1 and 2\n",
    "name = table_meta[b'label_names']  #catogore name \n",
    "plt.bar(np.arange(10),result_q1)\n",
    "plt.xlabel('numeric category')\n",
    "plt.ylabel('mean squared error')\n",
    "plt.show()\n"
   ]
  },
  {
   "cell_type": "code",
   "execution_count": 122,
   "metadata": {},
   "outputs": [
    {
     "name": "stdout",
     "output_type": "stream",
     "text": [
      "b'airplane'\n",
      "b'automobile'\n",
      "b'bird'\n",
      "b'cat'\n",
      "b'deer'\n",
      "b'dog'\n",
      "b'frog'\n",
      "b'horse'\n",
      "b'ship'\n",
      "b'truck'\n"
     ]
    },
    {
     "data": {
      "image/png": "[encoded data removed]",
      "text/plain": [
       "<Figure size 432x288 with 1 Axes>"
      ]
     },
     "metadata": {},
     "output_type": "display_data"
    }
   ],
   "source": [
    "plt.xlabel('x-coordinates')\n",
    "plt.ylabel('y-coordinates')\n",
    "plt.title('mean image distance')\n",
    "colors = ['#2300A8', '#77CC99', '#FFA658','#FC0CCC','#0B4458','#86C5B2', '#F11118', '#0000FF', '#00FF00', '#FFBABA']\n",
    "for i in range(10):\n",
    "    print(name[i])\n",
    "    plt.scatter(x = result[i,0], y = result[i,1], color=colors[i])\n",
    "red_patch = []\n",
    "for i in range(10):\n",
    "    red_patch.append(mpatches.Patch(color= colors[i], label=name[i]))\n",
    "\n",
    "plt.legend(handles = [red_patch[0],red_patch[1],red_patch[2],red_patch[3],red_patch[4],red_patch[5],red_patch[6],red_patch[7],red_patch[8],red_patch[9]],bbox_to_anchor=(1.05, 1), loc = 2)\n",
    "plt.show()"
   ]
  },
  {
   "cell_type": "code",
   "execution_count": null,
   "metadata": {},
   "outputs": [],
   "source": []
  }
 ],
 "metadata": {
  "kernelspec": {
   "display_name": "Python 3",
   "language": "python",
   "name": "python3"
  },
  "language_info": {
   "codemirror_mode": {
    "name": "ipython",
    "version": 3
   },
   "file_extension": ".py",
   "mimetype": "text/x-python",
   "name": "python",
   "nbconvert_exporter": "python",
   "pygments_lexer": "ipython3",
   "version": "3.6.5"
  }
 },
 "nbformat": 4,
 "nbformat_minor": 2
}
