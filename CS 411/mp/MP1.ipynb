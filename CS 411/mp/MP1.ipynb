{
 "cells": [
  {
   "cell_type": "markdown",
   "metadata": {},
   "source": [
    "<h1>Instructions</h1>\n",
    "<ol>\n",
    "<li>Click the button \"Not Trusted\" on the menu bar of this notebook (at the top-right), and change the value to \"Trusted\". \n",
    "<li>Click Cell -> Run All. If you skip this step you might get the error \"Cell magic `%%sql` not found.\"\n",
    "<li>In the cell below each question, write a SQL query for the question.  \n",
    "<li>After you enter a query, press Shift + Enter to run the cell. \n",
    "<li>After execution, the system will output the query result and say \"CORRECT\" if the query works for the sample dataset. Otherwise, it will say \"INCORRECT\" and also display the expected result for your comparison.\n",
    "<li>Your submission will be tested over a dataset different from and larger than the sample. You will receive full credit for a question if the query returns correct results on the test dataset. \n",
    "</ol>\n",
    "\n",
    "<h2>Notes</h2>\n",
    "<ul>\n",
    "<li>The DBMS running on the server is PostgreSQL 8.4.20. You may write any query to solve the questions as long as it conforms to its syntax. \n",
    "<li>You are encouraged to experiment with different queries by creating new code cells with the %%sql tag. However, when you submit your notebook, please make sure that there is exactly one cell with \"%%sql n\", for $1 \\le n \\le 12$, so that the autograder works properly. \n",
    "<li>Do not modify the line with %%sql; without it, the cell contents will be treated as Python code. \n",
    "</ul>"
   ]
  },
  {
   "cell_type": "markdown",
   "metadata": {},
   "source": [
    "<h2>Example</h2>\n",
    "\n",
    "As an example, you can copy and paste the following SQL code into the input box for one of the questions, and then press Shift + Enter. "
   ]
  },
  {
   "cell_type": "raw",
   "metadata": {},
   "source": [
    "SELECT Bars.name\n",
    "FROM Bars\n",
    "WHERE addr != ''"
   ]
  },
  {
   "cell_type": "markdown",
   "metadata": {},
   "source": [
    "If the notebook is working properly, then you should see a table of all the bars in the database. If not, please contact the TA's or make a post on Piazza and we will do our best to resolve the issue. "
   ]
  },
  {
   "cell_type": "markdown",
   "metadata": {},
   "source": [
    "<h1>Database Schema</h1>\n",
    "\n",
    "Drinkers(<u>name</u>, <u>addr</u>, hobby, frequent)\n",
    "\n",
    "Bars(<u>name</u>, addr, owner)\n",
    "\n",
    "Beers(<u>name</u>, brewer, alcohol)\n",
    "\n",
    "Drinks(<u>drinkerName</u>, <u>drinkerAddr</u>, <u>beerName</u>, rating)\n",
    "\n",
    "Sells(<u>barName</u>, <u>beerName</u>, price, discount)\n",
    "\n",
    "Favorites(<u>drinkerName</u>, <u>drinkerAddr</u>, <u>barName</u>, beerName, season)"
   ]
  },
  {
   "cell_type": "code",
   "execution_count": 88,
   "metadata": {
    "scrolled": false
   },
   "outputs": [
    {
     "data": {
      "text/html": [
       "\n",
       "<script>\n",
       "  function code_toggle() {\n",
       "    if (code_shown){\n",
       "      $('div.input:eq(0)').hide();\n",
       "    } else {\n",
       "      $('div.input:eq(0)').show();\n",
       "    }\n",
       "    code_shown = !code_shown;\n",
       "  }\n",
       "  \n",
       "  code_shown=true;\n",
       "  code_toggle();\n",
       "</script>\n"
      ]
     },
     "metadata": {},
     "output_type": "display_data"
    }
   ],
   "source": [
    "from IPython.core.magic import  (\n",
    "    Magics, magics_class, cell_magic, line_magic\n",
    ")\n",
    "from IPython.display import clear_output, display, Markdown\n",
    "\n",
    "import IPython.core.display as dis\n",
    "import requests, json\n",
    "import urllib.parse\n",
    "\n",
    "server_url = \"http://forward.cs.illinois.edu:8443\"\n",
    "\n",
    "def execQueryEval(query, query_id):\n",
    "    cmd = server_url + \"/test?query~\"+urllib.parse.quote(query)+\"&nb~\"+str(query_id)\n",
    "    cmd.encode(\"utf-8\")\n",
    "    r = requests.get(cmd)\n",
    "    return r.text\n",
    "\n",
    "def execQueryResult(query):\n",
    "    cmd =  server_url + \"/result?query~\"+urllib.parse.quote(query)\n",
    "    cmd.encode(\"utf-8\")\n",
    "    r = requests.get(cmd)\n",
    "    return r.text\n",
    "\n",
    "def displayAsMarkdown(text):\n",
    "    display(Markdown(text))\n",
    "\n",
    "@magics_class\n",
    "class SQL(Magics):\n",
    "\n",
    "    @cell_magic\n",
    "    def sql(self, params, cell):\n",
    "        clear_output()\n",
    "        \n",
    "        # remove trailing semicolon\n",
    "        if cell.endswith(';'):\n",
    "            cell = cell.rstrip(';')\n",
    "            \n",
    "        # get the question number\n",
    "        n = -1\n",
    "        if len(params.strip()) > 0:\n",
    "            try:\n",
    "                n = int(params.strip())\n",
    "            except Exception:\n",
    "                pass\n",
    "        \n",
    "        # evaluate the query\n",
    "        if len(cell.strip()) > 1:\n",
    "            print (\"Query output: \")\n",
    "            displayAsMarkdown(execQueryResult(cell))\n",
    "            if n > -1:\n",
    "                print (\"Result: \")\n",
    "                displayAsMarkdown(execQueryEval(cell, n))\n",
    "\n",
    "## use ipython load_ext mechanism here if distributed\n",
    "get_ipython().register_magics(SQL)\n",
    "\n",
    "# hide this code cell\n",
    "html = \"\"\"\n",
    "<script>\n",
    "  function code_toggle() {\n",
    "    if (code_shown){\n",
    "      $('div.input:eq(0)').hide();\n",
    "    } else {\n",
    "      $('div.input:eq(0)').show();\n",
    "    }\n",
    "    code_shown = !code_shown;\n",
    "  }\n",
    "  \n",
    "  code_shown=true;\n",
    "  code_toggle();\n",
    "</script>\n",
    "\"\"\"\n",
    "dis.display_html(html, raw=True)"
   ]
  },
  {
   "cell_type": "markdown",
   "metadata": {},
   "source": [
    "<h2>Question 1:</h2><br>\n",
    "In California it is illegal to sell beverages with >60% alcohol content. Find the beers in the database that are illegal to sell in California. <br>\n",
    "\n",
    "<b>Note</b> - alcohol concentration is represented as a floating point number between 0 and 1."
   ]
  },
  {
   "cell_type": "code",
   "execution_count": 89,
   "metadata": {
    "scrolled": false
   },
   "outputs": [
    {
     "name": "stdout",
     "output_type": "stream",
     "text": [
      "Query output: \n"
     ]
    },
    {
     "data": {
      "text/markdown": [
       "|name varchar|\n",
       "|---|\n",
       "|Armageddon|\n",
       "|Snake Venom|\n",
       "|Lucid Absinthe|\n",
       "|Pure alcohol|\n",
       "|Dangerous beer|\n"
      ],
      "text/plain": [
       "<IPython.core.display.Markdown object>"
      ]
     },
     "metadata": {},
     "output_type": "display_data"
    },
    {
     "name": "stdout",
     "output_type": "stream",
     "text": [
      "Result: \n"
     ]
    },
    {
     "data": {
      "text/markdown": [
       "CORRECT\n",
       "\n",
       "Expected result: \n",
       "\n",
       "|name varchar|\n",
       "|---|\n",
       "|Armageddon|\n",
       "|Snake Venom|\n",
       "|Lucid Absinthe|\n",
       "|Pure alcohol|\n",
       "|Dangerous beer|\n"
      ],
      "text/plain": [
       "<IPython.core.display.Markdown object>"
      ]
     },
     "metadata": {},
     "output_type": "display_data"
    }
   ],
   "source": [
    "%%sql 1\n",
    "\n",
    "/* write your query here */\n",
    "SELECT Beers.name\n",
    "FROM Beers\n",
    "WHERE Beers.alcohol > 0.6"
   ]
  },
  {
   "cell_type": "markdown",
   "metadata": {},
   "source": [
    "<h2>Question 2:</h2><br>\n",
    "Find the name and location of bars that sell beers made by the 'Boston Beer Co.'."
   ]
  },
  {
   "cell_type": "code",
   "execution_count": 90,
   "metadata": {},
   "outputs": [
    {
     "name": "stdout",
     "output_type": "stream",
     "text": [
      "Query output: \n"
     ]
    },
    {
     "data": {
      "text/markdown": [
       "|name varchar|addr varchar|\n",
       "|---|---|\n",
       "|Joe's Brewery|706 5th St|\n",
       "|Green Bar 2|123 Green St|\n",
       "|Boston Bar|100 Boston St|\n",
       "|Legends|522 Green St|\n",
       "|Brothers Bar & Grill|613 Green St|\n",
       "|Radio Maria|119 Walnut St|\n",
       "|The Red Lion|211 Green St|\n",
       "|Cowboy Monkey|6 Taylor St|\n",
       "|Jose's Brewery|706 6th St|\n",
       "|Green Bar|123 Green St|\n",
       "|Blind Pig Co.|120 Walnut St|\n",
       "|Firehaus|708 6th St|\n",
       "|Sipyard|204 Main St|\n",
       "|Murphy's Pub|604 Green St|\n"
      ],
      "text/plain": [
       "<IPython.core.display.Markdown object>"
      ]
     },
     "metadata": {},
     "output_type": "display_data"
    },
    {
     "name": "stdout",
     "output_type": "stream",
     "text": [
      "Result: \n"
     ]
    },
    {
     "data": {
      "text/markdown": [
       "CORRECT\n",
       "\n",
       "Expected result: \n",
       "\n",
       "|name varchar|addr varchar|\n",
       "|---|---|\n",
       "|Joe's Brewery|706 5th St|\n",
       "|Green Bar 2|123 Green St|\n",
       "|Boston Bar|100 Boston St|\n",
       "|Legends|522 Green St|\n",
       "|Brothers Bar & Grill|613 Green St|\n",
       "|Radio Maria|119 Walnut St|\n",
       "|The Red Lion|211 Green St|\n",
       "|Cowboy Monkey|6 Taylor St|\n",
       "|Jose's Brewery|706 6th St|\n",
       "|Green Bar|123 Green St|\n",
       "|Blind Pig Co.|120 Walnut St|\n",
       "|Firehaus|708 6th St|\n",
       "|Sipyard|204 Main St|\n",
       "|Murphy's Pub|604 Green St|\n"
      ],
      "text/plain": [
       "<IPython.core.display.Markdown object>"
      ]
     },
     "metadata": {},
     "output_type": "display_data"
    }
   ],
   "source": [
    "%%sql 2\n",
    "\n",
    "/* write your query here */\n",
    "SELECT DISTINCT B.name, B.addr\n",
    "FROM Bars as B,Sells as S, Beers as B1\n",
    "WHERE B1.brewer = 'Boston Beer Co.'and S.beerName = B1.name and S.barName = B.name"
   ]
  },
  {
   "cell_type": "markdown",
   "metadata": {},
   "source": [
    "<h2>Question 3:</h2><br>\n",
    "Find all of the different beers that are sold in bars located on 'Green St'. <br>\n",
    "\n",
    "<b>Note</b> - you can assume that address is always in the format '[number] [street]' <br>\n"
   ]
  },
  {
   "cell_type": "code",
   "execution_count": 91,
   "metadata": {},
   "outputs": [
    {
     "name": "stdout",
     "output_type": "stream",
     "text": [
      "Query output: \n"
     ]
    },
    {
     "data": {
      "text/markdown": [
       "|beername varchar|\n",
       "|---|\n",
       "|Miller Lite|\n",
       "|Sam Adams|\n",
       "|Blue Moon|\n",
       "|Boston flagship beer|\n",
       "|Coors Light|\n",
       "|Michelob|\n",
       "|Heineken|\n",
       "|Dangerous beer|\n",
       "|Bud Light|\n",
       "|Blue Ribbon|\n",
       "|Lucid Absinthe|\n",
       "|Budweiser|\n",
       "|Guinness Draught|\n",
       "|Armageddon|\n"
      ],
      "text/plain": [
       "<IPython.core.display.Markdown object>"
      ]
     },
     "metadata": {},
     "output_type": "display_data"
    },
    {
     "name": "stdout",
     "output_type": "stream",
     "text": [
      "Result: \n"
     ]
    },
    {
     "data": {
      "text/markdown": [
       "CORRECT\n",
       "\n",
       "Expected result: \n",
       "\n",
       "|beername varchar|\n",
       "|---|\n",
       "|Miller Lite|\n",
       "|Sam Adams|\n",
       "|Blue Moon|\n",
       "|Boston flagship beer|\n",
       "|Coors Light|\n",
       "|Michelob|\n",
       "|Heineken|\n",
       "|Dangerous beer|\n",
       "|Bud Light|\n",
       "|Blue Ribbon|\n",
       "|Lucid Absinthe|\n",
       "|Budweiser|\n",
       "|Guinness Draught|\n",
       "|Armageddon|\n"
      ],
      "text/plain": [
       "<IPython.core.display.Markdown object>"
      ]
     },
     "metadata": {},
     "output_type": "display_data"
    }
   ],
   "source": [
    "%%sql 3\n",
    "\n",
    "/* write your query here */\n",
    "SELECT DISTINCT Sells.beerName\n",
    "FROM   Bars, Sells \n",
    "WHERE Bars.addr like '%Green St'and Bars.name = Sells.barName"
   ]
  },
  {
   "cell_type": "markdown",
   "metadata": {},
   "source": [
    "<h2>Question 4:</h2><br>\n",
    "Find pairs of drinkers (name1, addr1, name2, addr2) who share a favorite drink and who frequent the same bar.<br>\n",
    "\n",
    "<b>Note</b> - the context of each person’s favorite drink (barName and season) do not need to be the same.<br>\n",
    "\n",
    "<b>Note</b> - it is expected that name1 || addr1 > name2 || addr2, so that the same information does not appear twice."
   ]
  },
  {
   "cell_type": "code",
   "execution_count": 92,
   "metadata": {
    "scrolled": true
   },
   "outputs": [
    {
     "name": "stdout",
     "output_type": "stream",
     "text": [
      "Query output: \n"
     ]
    },
    {
     "data": {
      "text/markdown": [
       "|name varchar|addr varchar|name varchar|addr varchar|\n",
       "|---|---|---|---|\n",
       "|Nina|1400 Nectarine Ln|Ian|900 Ivy Ave|\n",
       "|Ian|900 Ivy Ave|David|400 Durian Dr|\n",
       "|Nina|1400 Nectarine Ln|David|400 Durian Dr|\n",
       "|Frank|600 Fig St|Bob|200 Broccoli Blvd|\n",
       "|Octavian|1500 Orange Dr|Mason|1300 Mulberry Ct|\n"
      ],
      "text/plain": [
       "<IPython.core.display.Markdown object>"
      ]
     },
     "metadata": {},
     "output_type": "display_data"
    },
    {
     "name": "stdout",
     "output_type": "stream",
     "text": [
      "Result: \n"
     ]
    },
    {
     "data": {
      "text/markdown": [
       "CORRECT\n",
       "\n",
       "Expected result: \n",
       "\n",
       "|name varchar|addr varchar|name varchar|addr varchar|\n",
       "|---|---|---|---|\n",
       "|Nina|1400 Nectarine Ln|Ian|900 Ivy Ave|\n",
       "|Nina|1400 Nectarine Ln|David|400 Durian Dr|\n",
       "|Ian|900 Ivy Ave|David|400 Durian Dr|\n",
       "|Frank|600 Fig St|Bob|200 Broccoli Blvd|\n",
       "|Octavian|1500 Orange Dr|Mason|1300 Mulberry Ct|\n"
      ],
      "text/plain": [
       "<IPython.core.display.Markdown object>"
      ]
     },
     "metadata": {},
     "output_type": "display_data"
    }
   ],
   "source": [
    "%%sql 4\n",
    "\n",
    "/* write your query here */\n",
    "SELECT DISTINCT d1.name,d1.addr, d2.name, d2.addr\n",
    "FROM   drinkers as d1, drinkers as d2, Favorites as F1, Favorites as F2\n",
    "WHERE d1.name||d1.addr > d2.name||d2.addr and d1.frequent = d2.frequent and d1.name = F1.drinkerName and d1.addr = F1.drinkerAddr and d2.addr = F2. drinkerAddr and d2.name = F2.drinkerName and F1.barName = F2.barName"
   ]
  },
  {
   "cell_type": "markdown",
   "metadata": {},
   "source": [
    "<h2>Question 5:</h2><br>\n",
    "Find the undiscounted price at which each bar sells the 'Sam Adams' beer\n",
    "\n",
    "<b>Note</b> - the Sells.price attribute describes the price <b>after</b> all discounts are applied.<br>\n",
    "\n",
    "<b>Note</b> - the discount attribute is a number between 0 and 1, such that discountedPrice = undiscountedPrice * discount"
   ]
  },
  {
   "cell_type": "code",
   "execution_count": 93,
   "metadata": {
    "scrolled": false
   },
   "outputs": [
    {
     "name": "stdout",
     "output_type": "stream",
     "text": [
      "Query output: \n"
     ]
    },
    {
     "data": {
      "text/markdown": [
       "|barname varchar|?column? numeric|\n",
       "|---|---|\n",
       "|Blind Pig Co.|7.5000000000000000|\n",
       "|Brothers Bar & Grill|7.5000000000000000|\n",
       "|Firehaus|7.5000000000000000|\n",
       "|Joe's Brewery|10.0000000000000000|\n",
       "|Legends|13.0000000000000000|\n",
       "|Murphy's Pub|7.5000000000000000|\n",
       "|Radio Maria|7.0000000000000000|\n",
       "|The Red Lion|7.5000000000000000|\n",
       "|Sipyard|8.5000000000000000|\n",
       "|Cowboy Monkey|5.0000000000000000|\n",
       "|Boston Bar|10.0000000000000000|\n",
       "|Green Bar|25.0000000000000000|\n",
       "|Green Bar 2|15.0000000000000000|\n",
       "|Jose's Brewery|10.0000000000000000|\n"
      ],
      "text/plain": [
       "<IPython.core.display.Markdown object>"
      ]
     },
     "metadata": {},
     "output_type": "display_data"
    },
    {
     "name": "stdout",
     "output_type": "stream",
     "text": [
      "Result: \n"
     ]
    },
    {
     "data": {
      "text/markdown": [
       "CORRECT\n",
       "\n",
       "Expected result: \n",
       "\n",
       "|barname varchar|undiscountedprice numeric|\n",
       "|---|---|\n",
       "|Blind Pig Co.|7.5000000000000000|\n",
       "|Brothers Bar & Grill|7.5000000000000000|\n",
       "|Firehaus|7.5000000000000000|\n",
       "|Joe's Brewery|10.0000000000000000|\n",
       "|Legends|13.0000000000000000|\n",
       "|Murphy's Pub|7.5000000000000000|\n",
       "|Radio Maria|7.0000000000000000|\n",
       "|The Red Lion|7.5000000000000000|\n",
       "|Sipyard|8.5000000000000000|\n",
       "|Cowboy Monkey|5.0000000000000000|\n",
       "|Boston Bar|10.0000000000000000|\n",
       "|Green Bar|25.0000000000000000|\n",
       "|Green Bar 2|15.0000000000000000|\n",
       "|Jose's Brewery|10.0000000000000000|\n"
      ],
      "text/plain": [
       "<IPython.core.display.Markdown object>"
      ]
     },
     "metadata": {},
     "output_type": "display_data"
    }
   ],
   "source": [
    "%%sql 5\n",
    "\n",
    "/* write your query here */\n",
    "SELECT barName, price / discount\n",
    "FROM Sells\n",
    "WHERE Sells.beerName = 'Sam Adams'"
   ]
  },
  {
   "cell_type": "markdown",
   "metadata": {},
   "source": [
    "<h2>Question 6:</h2><br>\n",
    "Find the bars that sell a unique beer (a beer that no other bars have)"
   ]
  },
  {
   "cell_type": "code",
   "execution_count": 94,
   "metadata": {
    "scrolled": false
   },
   "outputs": [
    {
     "name": "stdout",
     "output_type": "stream",
     "text": [
      "Query output: \n"
     ]
    },
    {
     "data": {
      "text/markdown": [
       "|barname varchar|\n",
       "|---|\n",
       "|Brothers Bar & Grill|\n",
       "|Cowboy Monkey|\n",
       "|Firehaus|\n",
       "|Sipyard|\n",
       "|Sipyard|\n",
       "|Boston Bar|\n",
       "|Murphy's Pub|\n"
      ],
      "text/plain": [
       "<IPython.core.display.Markdown object>"
      ]
     },
     "metadata": {},
     "output_type": "display_data"
    },
    {
     "name": "stdout",
     "output_type": "stream",
     "text": [
      "Result: \n"
     ]
    },
    {
     "data": {
      "text/markdown": [
       "CORRECT\n",
       "\n",
       "Expected result: \n",
       "\n",
       "|barname varchar|\n",
       "|---|\n",
       "|Boston Bar|\n",
       "|Murphy's Pub|\n",
       "|Cowboy Monkey|\n",
       "|Sipyard|\n",
       "|Brothers Bar & Grill|\n",
       "|Firehaus|\n"
      ],
      "text/plain": [
       "<IPython.core.display.Markdown object>"
      ]
     },
     "metadata": {},
     "output_type": "display_data"
    }
   ],
   "source": [
    "%%sql 6\n",
    "\n",
    "/* write your query here */\n",
    "SELECT Sells.barName\n",
    "FROM Sells\n",
    "WHERE Sells.beerName not in \n",
    "(SELECT DISTINCT s1.beerName\n",
    "FROM Sells as s1, Sells as s2\n",
    "WHERE s1.beerName = s2.beerName and s1.barName <> s2.barName)"
   ]
  },
  {
   "cell_type": "markdown",
   "metadata": {},
   "source": [
    "<h2>Question 7:</h2><br>\n",
    "Find the 5 most popular beers (according to the total number of people who drink the beer across all bars) that are sold at 'Murphy''s Pub'."
   ]
  },
  {
   "cell_type": "code",
   "execution_count": 145,
   "metadata": {
    "scrolled": false
   },
   "outputs": [
    {
     "name": "stdout",
     "output_type": "stream",
     "text": [
      "Query output: \n"
     ]
    },
    {
     "data": {
      "text/markdown": [
       "|new_b_n varchar|\n",
       "|---|\n",
       "|Guinness Draught|\n",
       "|Sam Adams|\n",
       "|Blue Moon|\n",
       "|Boston flagship beer|\n",
       "|Heineken|\n"
      ],
      "text/plain": [
       "<IPython.core.display.Markdown object>"
      ]
     },
     "metadata": {},
     "output_type": "display_data"
    },
    {
     "name": "stdout",
     "output_type": "stream",
     "text": [
      "Result: \n"
     ]
    },
    {
     "data": {
      "text/markdown": [
       "CORRECT\n",
       "\n",
       "Expected result: \n",
       "\n",
       "|beername varchar|\n",
       "|---|\n",
       "|Guinness Draught|\n",
       "|Boston flagship beer|\n",
       "|Sam Adams|\n",
       "|Heineken|\n",
       "|Blue Moon|\n"
      ],
      "text/plain": [
       "<IPython.core.display.Markdown object>"
      ]
     },
     "metadata": {},
     "output_type": "display_data"
    }
   ],
   "source": [
    "%%sql 7\n",
    "\n",
    "/* write your query here */\n",
    "SELECT *\n",
    "FROM (\n",
    "SELECT a1.new_b_n\n",
    "FROM (SELECT Drinks.beerName as new_b_n, COUNT(drinkerName) as count_num\n",
    "FROM Drinks\n",
    "WHERE Drinks.beerName in (\n",
    "SELECT Sells.beerName\n",
    "FROM Sells\n",
    "WHERE Sells.barName = 'Murphy''s Pub')\n",
    "GROUP BY Drinks.beerName) as a1\n",
    "ORDER BY a1.count_num DESC) as c1\n",
    "LIMIT 5\n"
   ]
  },
  {
   "cell_type": "markdown",
   "metadata": {},
   "source": [
    "<h2>Question 8:</h2><br>\n",
    "Find the bars that serve the Sam Adams beer cheaper than the average market price.\n",
    "\n",
    "<b>Note</b> - the average market price is defined as the average price of the beer across all bars that sell the beer. "
   ]
  },
  {
   "cell_type": "code",
   "execution_count": 96,
   "metadata": {
    "scrolled": false
   },
   "outputs": [
    {
     "name": "stdout",
     "output_type": "stream",
     "text": [
      "Query output: \n"
     ]
    },
    {
     "data": {
      "text/markdown": [
       "|barname varchar|\n",
       "|---|\n",
       "|Joe's Brewery|\n",
       "|Blind Pig Co.|\n",
       "|Boston Bar|\n",
       "|Legends|\n",
       "|Murphy's Pub|\n",
       "|Firehaus|\n",
       "|Radio Maria|\n",
       "|Cowboy Monkey|\n",
       "|Brothers Bar & Grill|\n",
       "|Jose's Brewery|\n",
       "|The Red Lion|\n"
      ],
      "text/plain": [
       "<IPython.core.display.Markdown object>"
      ]
     },
     "metadata": {},
     "output_type": "display_data"
    },
    {
     "name": "stdout",
     "output_type": "stream",
     "text": [
      "Result: \n"
     ]
    },
    {
     "data": {
      "text/markdown": [
       "CORRECT\n",
       "\n",
       "Expected result: \n",
       "\n",
       "|barname varchar|\n",
       "|---|\n",
       "|Blind Pig Co.|\n",
       "|Brothers Bar & Grill|\n",
       "|Firehaus|\n",
       "|Joe's Brewery|\n",
       "|Legends|\n",
       "|Murphy's Pub|\n",
       "|Radio Maria|\n",
       "|The Red Lion|\n",
       "|Cowboy Monkey|\n",
       "|Boston Bar|\n",
       "|Jose's Brewery|\n"
      ],
      "text/plain": [
       "<IPython.core.display.Markdown object>"
      ]
     },
     "metadata": {},
     "output_type": "display_data"
    }
   ],
   "source": [
    "%%sql 8\n",
    "\n",
    "/* write your query here */\n",
    "SELECT list2.barName\n",
    "FROM (SELECT AVG(Sells.price) as avg_all\n",
    "    FROM Sells\n",
    "    WHERE Sells.beerName = 'Sam Adams') as list1 , ( SELECT Sells.barName,AVG(Sells.price) as ind_avg\n",
    "    FROM Sells\n",
    "    WHERE Sells.beerName = 'Sam Adams'\n",
    "    GROUP BY Sells.barName) as list2\n",
    "WHERE list2.ind_avg < list1.avg_all"
   ]
  },
  {
   "cell_type": "markdown",
   "metadata": {},
   "source": [
    "<h2>Question 9:</h2><br>\n",
    "Find pairs of bars (Name1, Name2) that sell the same set of drinks. <br>\n",
    "\n",
    "<b>Note</b> - for each pair, we would like for Name1 > Name2, so that the same information does not appear twice."
   ]
  },
  {
   "cell_type": "code",
   "execution_count": 97,
   "metadata": {
    "scrolled": false
   },
   "outputs": [
    {
     "name": "stdout",
     "output_type": "stream",
     "text": [
      "Query output: \n"
     ]
    },
    {
     "data": {
      "text/markdown": [
       "|barname varchar|barname varchar|\n",
       "|---|---|\n",
       "|Joe's Brewery|Blind Pig Co.|\n",
       "|Jose's Brewery|Blind Pig Co.|\n",
       "|Jose's Brewery|Joe's Brewery|\n",
       "|Green Bar 2|Green Bar|\n"
      ],
      "text/plain": [
       "<IPython.core.display.Markdown object>"
      ]
     },
     "metadata": {},
     "output_type": "display_data"
    },
    {
     "name": "stdout",
     "output_type": "stream",
     "text": [
      "Result: \n"
     ]
    },
    {
     "data": {
      "text/markdown": [
       "CORRECT\n",
       "\n",
       "Expected result: \n",
       "\n",
       "|name varchar|name varchar|\n",
       "|---|---|\n",
       "|Joe's Brewery|Blind Pig Co.|\n",
       "|Jose's Brewery|Blind Pig Co.|\n",
       "|Jose's Brewery|Joe's Brewery|\n",
       "|Green Bar 2|Green Bar|\n"
      ],
      "text/plain": [
       "<IPython.core.display.Markdown object>"
      ]
     },
     "metadata": {},
     "output_type": "display_data"
    }
   ],
   "source": [
    "%%sql 9\n",
    "\n",
    "/* write your query here */\n",
    "SELECT DISTINCT S3.barName, S4.barName\n",
    "FROM Sells as S3, Sells as S4\n",
    "WHERE (S3.barName > S4.barName) and ((SELECT COUNT(beerName)\n",
    "                                     FROM Sells\n",
    "                                     WHERE Sells.barName = S3.barName) = (SELECT COUNT(beerName)\n",
    "                                     FROM Sells\n",
    "                                     WHERE Sells.barName = S4.barName)) and (S3.barName,S4.barName) NOT IN (SELECT DISTINCT S1.barName, S2.barName\n",
    "                    FROM Sells as S1, Sells as S2\n",
    "                    WHERE S1.barName > S2.barName and S1.beerName NOT IN (SELECT Sells.beerName\n",
    "                                                                          FROM Sells\n",
    "                                                                          WHERE Sells.barName = S2.barName))                           "
   ]
  },
  {
   "cell_type": "markdown",
   "metadata": {},
   "source": [
    "<h2>Question 10:</h2><br>\n",
    "Suppose we are interested in computing statistics about the ratings of people’s favorite beers. Obtain a list of all ratings for all beers that have been favorited by >= 3 different people. "
   ]
  },
  {
   "cell_type": "code",
   "execution_count": 98,
   "metadata": {
    "scrolled": true
   },
   "outputs": [
    {
     "name": "stdout",
     "output_type": "stream",
     "text": [
      "Query output: \n"
     ]
    },
    {
     "data": {
      "text/markdown": [
       "|rating int4|\n",
       "|---|\n",
       "|8|\n",
       "|7|\n",
       "|8|\n",
       "|8|\n",
       "|7|\n",
       "|8|\n",
       "|8|\n",
       "|3|\n",
       "|8|\n",
       "|8|\n",
       "|8|\n",
       "|9|\n",
       "|7|\n",
       "|6|\n",
       "|7|\n",
       "|10|\n",
       "|5|\n",
       "|6|\n",
       "|5|\n",
       "|7|\n",
       "|10|\n",
       "|4|\n",
       "|3|\n"
      ],
      "text/plain": [
       "<IPython.core.display.Markdown object>"
      ]
     },
     "metadata": {},
     "output_type": "display_data"
    },
    {
     "name": "stdout",
     "output_type": "stream",
     "text": [
      "Result: \n"
     ]
    },
    {
     "data": {
      "text/markdown": [
       "CORRECT\n",
       "\n",
       "Expected result: \n",
       "\n",
       "|rating int4|\n",
       "|---|\n",
       "|8|\n",
       "|7|\n",
       "|8|\n",
       "|8|\n",
       "|7|\n",
       "|8|\n",
       "|3|\n",
       "|8|\n",
       "|8|\n",
       "|8|\n",
       "|9|\n",
       "|6|\n",
       "|7|\n",
       "|10|\n",
       "|5|\n",
       "|6|\n",
       "|5|\n",
       "|7|\n",
       "|10|\n",
       "|4|\n",
       "|3|\n"
      ],
      "text/plain": [
       "<IPython.core.display.Markdown object>"
      ]
     },
     "metadata": {},
     "output_type": "display_data"
    }
   ],
   "source": [
    "%%sql 10\n",
    "\n",
    "/* write your query here */\n",
    "SELECT Drinks.rating\n",
    "FROM Drinks\n",
    "WHERE Drinks.beerName IN (SELECT beerName\n",
    "FROM Favorites \n",
    "GROUP BY beerName\n",
    "HAVING COUNT(drinkerName) >= 3)\n",
    "\n",
    "\n"
   ]
  },
  {
   "cell_type": "markdown",
   "metadata": {},
   "source": [
    "<h2>Question 11:</h2><br>\n",
    "Find the most expensive beer, along with its price, that is sold at each bar. <br>\n",
    "\n",
    "<b>Note</b> - the expected output format is (bar name, name of most expensive beer at that bar, price of most expensive beer) <br>\n",
    "\n",
    "<b>Note</b> - you can assume that there will be at most one row for each bar."
   ]
  },
  {
   "cell_type": "code",
   "execution_count": 99,
   "metadata": {
    "scrolled": false
   },
   "outputs": [
    {
     "name": "stdout",
     "output_type": "stream",
     "text": [
      "Query output: \n"
     ]
    },
    {
     "data": {
      "text/markdown": [
       "|barname varchar|beername varchar|price numeric|\n",
       "|---|---|---|\n",
       "|Blind Pig Co.|Corona|8.00|\n",
       "|Brothers Bar & Grill|Blue Ribbon|9.50|\n",
       "|The Clybourne|Heineken|10.00|\n",
       "|Cowboy Monkey|Lucid Absinthe|95.00|\n",
       "|Firehaus|Snake Venom|19.50|\n",
       "|Joe's Brewery|Budweiser|7.50|\n",
       "|Kam's|Corona|8.00|\n",
       "|Legends|Armageddon|49.50|\n",
       "|Radio Maria|Sam Adams|7.00|\n",
       "|The Red Lion|Guinness Draught|9.50|\n",
       "|Sipyard|Stella Artois|39.50|\n",
       "|Boston Bar|Boston flagship beer|6.00|\n",
       "|Green Bar|Armageddon|101.00|\n",
       "|Green Bar 2|Lucid Absinthe|100.01|\n",
       "|Murphy's Pub|Dangerous beer|999.00|\n",
       "|Jose's Brewery|Budweiser|7.50|\n"
      ],
      "text/plain": [
       "<IPython.core.display.Markdown object>"
      ]
     },
     "metadata": {},
     "output_type": "display_data"
    },
    {
     "name": "stdout",
     "output_type": "stream",
     "text": [
      "Result: \n"
     ]
    },
    {
     "data": {
      "text/markdown": [
       "CORRECT\n",
       "\n",
       "Expected result: \n",
       "\n",
       "|barname varchar|beername varchar|price numeric|\n",
       "|---|---|---|\n",
       "|Blind Pig Co.|Corona|8.00|\n",
       "|Brothers Bar & Grill|Blue Ribbon|9.50|\n",
       "|The Clybourne|Heineken|10.00|\n",
       "|Cowboy Monkey|Lucid Absinthe|95.00|\n",
       "|Firehaus|Snake Venom|19.50|\n",
       "|Joe's Brewery|Budweiser|7.50|\n",
       "|Kam's|Corona|8.00|\n",
       "|Legends|Armageddon|49.50|\n",
       "|Radio Maria|Sam Adams|7.00|\n",
       "|The Red Lion|Guinness Draught|9.50|\n",
       "|Sipyard|Stella Artois|39.50|\n",
       "|Boston Bar|Boston flagship beer|6.00|\n",
       "|Green Bar|Armageddon|101.00|\n",
       "|Green Bar 2|Lucid Absinthe|100.01|\n",
       "|Murphy's Pub|Dangerous beer|999.00|\n",
       "|Jose's Brewery|Budweiser|7.50|\n"
      ],
      "text/plain": [
       "<IPython.core.display.Markdown object>"
      ]
     },
     "metadata": {},
     "output_type": "display_data"
    }
   ],
   "source": [
    "%%sql 11\n",
    "\n",
    "/* write your query here */\n",
    "SELECT Sells.barName, Sells.beerName, Sells.price\n",
    "FROM Sells, (SELECT barName, MAX(price) as max1\n",
    "FROM Sells\n",
    "GROUP BY barName) as S1\n",
    "WHERE Sells.barName = S1.barName and Sells.price = S1.max1 "
   ]
  },
  {
   "cell_type": "markdown",
   "metadata": {},
   "source": [
    "<h2>Question 12:</h2><br>\n",
    "Find the beer with the highest average rating among the beers with the lowest alcohol content. <br>\n",
    "\n",
    "<b>Note</b> - you may assume that the output will only contain one row."
   ]
  },
  {
   "cell_type": "code",
   "execution_count": 100,
   "metadata": {},
   "outputs": [
    {
     "name": "stdout",
     "output_type": "stream",
     "text": [
      "Query output: \n"
     ]
    },
    {
     "data": {
      "text/markdown": [
       "|beername varchar|\n",
       "|---|\n",
       "|Paul Revere ale|\n"
      ],
      "text/plain": [
       "<IPython.core.display.Markdown object>"
      ]
     },
     "metadata": {},
     "output_type": "display_data"
    },
    {
     "name": "stdout",
     "output_type": "stream",
     "text": [
      "Result: \n"
     ]
    },
    {
     "data": {
      "text/markdown": [
       "CORRECT\n",
       "\n",
       "Expected result: \n",
       "\n",
       "|beername varchar|\n",
       "|---|\n",
       "|Paul Revere ale|\n"
      ],
      "text/plain": [
       "<IPython.core.display.Markdown object>"
      ]
     },
     "metadata": {},
     "output_type": "display_data"
    }
   ],
   "source": [
    "%%sql 12\n",
    "\n",
    "/* write your query here */\n",
    "\n",
    "SELECT b1.beerName\n",
    "FROM (\n",
    "SELECT beerName, AVG(rating) as avg_r\n",
    "FROM Drinks\n",
    "WHERE Drinks.beerName IN(\n",
    "SELECT Beers.name \n",
    "FROM Beers\n",
    "WHERE Beers.alcohol = (SELECT MIN(Beers.alcohol)\n",
    "FROM Beers))\n",
    "GROUP BY Drinks.beerName\n",
    ") as b1\n",
    "WHERE b1.avg_r = (\n",
    "SELECT MAX(a1.avg_r)\n",
    "FROM (SELECT beerName, AVG(rating) as avg_r\n",
    "FROM Drinks\n",
    "WHERE Drinks.beerName IN(\n",
    "SELECT Beers.name \n",
    "FROM Beers\n",
    "WHERE Beers.alcohol = (SELECT MIN(Beers.alcohol)\n",
    "FROM Beers))\n",
    "GROUP BY Drinks.beerName) as a1\n",
    ")"
   ]
  },
  {
   "cell_type": "code",
   "execution_count": null,
   "metadata": {},
   "outputs": [],
   "source": []
  }
 ],
 "metadata": {
  "kernelspec": {
   "display_name": "Python 3",
   "language": "python",
   "name": "python3"
  },
  "language_info": {
   "codemirror_mode": {
    "name": "ipython",
    "version": 3
   },
   "file_extension": ".py",
   "mimetype": "text/x-python",
   "name": "python",
   "nbconvert_exporter": "python",
   "pygments_lexer": "ipython3",
   "version": "3.6.5"
  }
 },
 "nbformat": 4,
 "nbformat_minor": 2
}
